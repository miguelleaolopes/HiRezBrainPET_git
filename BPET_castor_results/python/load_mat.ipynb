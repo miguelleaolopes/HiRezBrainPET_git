{
 "cells": [
  {
   "cell_type": "markdown",
   "metadata": {},
   "source": [
    "# Load .mat data"
   ]
  },
  {
   "cell_type": "code",
   "execution_count": 1,
   "metadata": {},
   "outputs": [
    {
     "name": "stdout",
     "output_type": "stream",
     "text": [
      "['#refs#', 'EvtTime', 'LORs', 'RunName', 'opt']\n",
      "#refs#\n",
      "<HDF5 group \"/#refs#\" (1 members)>\n",
      "EvtTime\n",
      "<HDF5 dataset \"EvtTime\": shape (1, 4997135), type \"<f8\">\n",
      "LORs\n",
      "<HDF5 dataset \"LORs\": shape (2, 3, 4997135), type \"<f4\">\n",
      "RunName\n",
      "<HDF5 dataset \"RunName\": shape (39, 1), type \"<u2\">\n",
      "opt\n",
      "<HDF5 group \"/opt\" (5 members)>\n"
     ]
    }
   ],
   "source": [
    "import h5py\n",
    "\n",
    "mat_file = '../Files/220409181025_4997kLORs.mat'\n",
    "\n",
    "file = h5py.File(mat_file, 'r')\n",
    "\n",
    "# Print the keys of the file\n",
    "print(list(file.keys()))\n",
    "# Save the data from all keys\n",
    "data = []\n",
    "for key in file.keys():\n",
    "    print(key)\n",
    "    print(file[key])\n",
    "    data.append(file[key])\n",
    "# Access the data within the \"/opt\" group\n",
    "\n",
    "EvtTime = data[1][()]\n",
    "LORs = data[2][()]\n",
    "RunName =data[3][()]\n",
    "opt = data[4]\n",
    "\n"
   ]
  },
  {
   "cell_type": "code",
   "execution_count": 2,
   "metadata": {},
   "outputs": [
    {
     "name": "stdout",
     "output_type": "stream",
     "text": [
      "['DPP', 'DbStopBypass', 'LOR', 'allPlotsOff', 'saveLORs']\n",
      "DPP\n",
      "<HDF5 dataset \"DPP\": shape (6, 1), type \"<u2\">\n",
      "DbStopBypass\n",
      "<HDF5 dataset \"DbStopBypass\": shape (1, 1), type \"|u1\">\n",
      "LOR\n",
      "<HDF5 dataset \"LOR\": shape (6, 1), type \"<u2\">\n",
      "allPlotsOff\n",
      "<HDF5 dataset \"allPlotsOff\": shape (1, 1), type \"|u1\">\n",
      "saveLORs\n",
      "<HDF5 group \"/opt/saveLORs\" (1 members)>\n",
      "[[126]\n",
      " [ 47]\n",
      " [ 68]\n",
      " [ 80]\n",
      " [ 80]\n",
      " [ 47]]\n"
     ]
    }
   ],
   "source": [
    "# print the opt group members\n",
    "print(list(opt.keys()))\n",
    "# Save the data from all keys\n",
    "data = []\n",
    "for key in opt.keys():\n",
    "    print(key)\n",
    "    print(opt[key])\n",
    "    data.append(opt[key])\n",
    "\n",
    "# acess the DPP data within the \"/opt\" group that is shape (6,1) type \"<u2\">\n",
    "DPP = data[0][()]\n",
    "print(DPP)"
   ]
  },
  {
   "cell_type": "markdown",
   "metadata": {},
   "source": [
    "# Time Modifications"
   ]
  },
  {
   "cell_type": "code",
   "execution_count": 3,
   "metadata": {},
   "outputs": [],
   "source": [
    "import datetime\n",
    "import numpy as np\n",
    "\n",
    "# Remove the extra dimension\n",
    "time_full = np.squeeze(EvtTime)\n",
    "\n",
    "# Convert the event time to a datetime object\n",
    "time_datetime = [datetime.datetime.fromordinal(int(t)) + datetime.timedelta(days=t % 1) - datetime.timedelta(days=366) for t in time_full]"
   ]
  },
  {
   "cell_type": "code",
   "execution_count": 4,
   "metadata": {},
   "outputs": [
    {
     "name": "stdout",
     "output_type": "stream",
     "text": [
      "Start time:    16-Mar-2022 21:58:45\n",
      "End time:      17-Mar-2022 01:59:10\n",
      "Elapsed time:  4:00:25.000002\n",
      "Time spent on the first 100k events: 0:02:21\n",
      "Time spent on the last 100k events:  0:20:58.000006\n"
     ]
    }
   ],
   "source": [
    "# The first and last date and the elapsed time\n",
    "first_date_string = time_datetime[0].strftime('%d-%b-%Y %H:%M:%S')\n",
    "last_date_string = time_datetime[-1].strftime('%d-%b-%Y %H:%M:%S')\n",
    "elapsed_time = time_datetime[-1] - time_datetime[0]\n",
    "\n",
    "print('Start time:   ', first_date_string)\n",
    "print('End time:     ', last_date_string)\n",
    "print('Elapsed time: ', elapsed_time)\n",
    "\n",
    "# Time between first 100000 and last 100000 events\n",
    "elapsed_first_100k = time_datetime[100000] - time_datetime[0]\n",
    "elapsed_last_100k = time_datetime[-1] - time_datetime[-100000]\n",
    "\n",
    "print('Time spent on the first 100k events:', elapsed_first_100k)\n",
    "print('Time spent on the last 100k events: ', elapsed_last_100k)"
   ]
  },
  {
   "cell_type": "markdown",
   "metadata": {},
   "source": [
    "## Time difference"
   ]
  },
  {
   "cell_type": "code",
   "execution_count": 5,
   "metadata": {},
   "outputs": [],
   "source": [
    "# Time diference between the first and each event\n",
    "time_diff = [t - time_datetime[0] for t in time_datetime]\n",
    "\n",
    "# Difference in seconds\n",
    "time_diff_sec = [t.total_seconds() for t in time_diff]\n",
    "\n",
    "# Difference in milliseconds\n",
    "time_diff_msec = [t.total_seconds() * 1000 for t in time_diff]"
   ]
  },
  {
   "cell_type": "markdown",
   "metadata": {},
   "source": [
    "# Histogram of data frequency"
   ]
  },
  {
   "cell_type": "code",
   "execution_count": 6,
   "metadata": {},
   "outputs": [
    {
     "data": {
      "image/png": "[encoded data removed]",
      "text/plain": [
       "<Figure size 640x480 with 1 Axes>"
      ]
     },
     "metadata": {},
     "output_type": "display_data"
    }
   ],
   "source": [
    "import numpy as np\n",
    "from scipy.optimize import curve_fit\n",
    "import matplotlib.pyplot as plt\n",
    "\n",
    "# Create a histogram\n",
    "plt.hist(time_diff_sec, bins=500)\n",
    "\n",
    "# Set the x-axis label\n",
    "plt.xlabel('Time (seconds)')\n",
    "\n",
    "# Set the y-axis label\n",
    "plt.ylabel('Events')\n",
    "\n",
    "# Set the title of the histogram\n",
    "plt.title('Frequency of Time Differences')\n",
    "\n",
    "# Save the plot as a PDF and PNG\n",
    "path = \"C:/Users/migue/OneDrive - Universidade de Lisboa/College/MEFT/5Ano/Thesis_MEFT/figures/results/\"\n",
    "# plt.savefig(path + 'freq_time_all_plot.pdf')\n",
    "# plt.savefig(path + 'freq_time_all_plot.png')\n",
    "\n",
    "# Display the histogram\n",
    "plt.show()\n",
    "\n",
    "# import matplotlib\n",
    "# matplotlib.use(\"pgf\")\n",
    "# matplotlib.rcParams.update({\n",
    "#     \"pgf.texsystem\": \"pdflatex\",\n",
    "#     'font.family': 'serif',\n",
    "#     'font.size' : 11,\n",
    "#     'text.usetex': True,\n",
    "#     'pgf.rcfonts': False,\n",
    "# })\n",
    "\n",
    "# # Save plot as pgf\n",
    "# plt.savefig(path+'freq_time_all_plot.pgf')\n"
   ]
  },
  {
   "cell_type": "markdown",
   "metadata": {},
   "source": [
    "## Fitting of exponential decay"
   ]
  },
  {
   "cell_type": "code",
   "execution_count": 15,
   "metadata": {},
   "outputs": [
    {
     "name": "stdout",
     "output_type": "stream",
     "text": [
      "Decay constant: 0.00010539676347288157\n",
      "Half-life: 109.60918180665814 minutes\n",
      "R-squared: 0.634246562703277\n",
      "Adjusted R-squared: 0.630678236485748\n",
      "Sum of squared errors: 1015233693.970711\n",
      "Chi-squared: 293.58460459589907\n"
     ]
    }
   ],
   "source": [
    "import re\n",
    "from scipy.optimize import curve_fit\n",
    "from sklearn.metrics import r2_score\n",
    "\n",
    "# Define the exponential function\n",
    "def exponential_decay(x, a, b):\n",
    "    return a * np.exp(-b * x)\n",
    "\n",
    "# Define a function to calculate the sum of squared errors (SSE)\n",
    "def calculate_sse(y_actual, y_predicted):\n",
    "    # Convert the input lists to NumPy arrays for vectorized operations\n",
    "    y_actual = np.array(y_actual)\n",
    "    y_predicted = np.array(y_predicted)\n",
    "    \n",
    "    # Calculate squared errors and sum them up\n",
    "    squared_errors = (y_actual - y_predicted) ** 2\n",
    "    sse = np.sum(squared_errors)\n",
    "    \n",
    "    return sse\n",
    "\n",
    "def calculate_chi_squared(y_actual, y_predicted, p):\n",
    "    # Convert the input lists to NumPy arrays for vectorized operations\n",
    "    y_actual = np.array(y_actual)\n",
    "    y_predicted = np.array(y_predicted)\n",
    "\n",
    "    # Calculate the chi-squared value\n",
    "    chi_squared = np.sum((y_actual - y_predicted) ** 2 / y_predicted)\n",
    "\n",
    "    # Degrees of freedom\n",
    "    dof = len(y_actual) - p\n",
    "\n",
    "    # Calculate the reduced chi-squared value\n",
    "    reduced_chi_squared = chi_squared / dof\n",
    "\n",
    "    return reduced_chi_squared\n",
    "\n",
    "def fit_expon(x,y):\n",
    "    \n",
    "    # Perform the curve fit\n",
    "\n",
    "    popt, pcov = curve_fit(exponential_decay, x, y, p0=[30600, 0.0001], maxfev=5000)\n",
    "    perr = np.sqrt(np.diag(pcov))\n",
    "\n",
    "    # Extract the optimized parameters\n",
    "    a_opt, b_opt = popt\n",
    "    \n",
    "    # Generate fitted values for plotting\n",
    "    x_fit = np.linspace(min(x), max(x), 40)\n",
    "    y_fit = exponential_decay(x_fit, a_opt, b_opt)\n",
    "    \n",
    "    # Calculate the predicted values of y using the fitted parameters\n",
    "    y_predicted = exponential_decay(x, a_opt, b_opt)\n",
    "\n",
    "    # Calculate R-squared (coefficient of determination)\n",
    "    r2 = r2_score(y, y_predicted)\n",
    "    \n",
    "    # Calculate SSE\n",
    "    sse = calculate_sse(y, y_predicted)\n",
    "\n",
    "    # Calculate chi-squared\n",
    "    chi_squared = calculate_chi_squared(y, y_predicted, len(popt))\n",
    " \n",
    "    # Calculate adjusted R-squared\n",
    "    n = len(y)\n",
    "    p = len(popt)\n",
    "    adjusted_R_squared = 1 - (1 - r2) * (n - 1) / (n - p - 1)\n",
    "    \n",
    "    return {'x': x_fit, 'y': y_fit, 'r2': r2, 'coefficients': popt, 'errors': perr, 'sse': sse,\n",
    "            'adj_r2': adjusted_R_squared, 'chi_squared': chi_squared}\n",
    "\n",
    "# Calculate the histogram values and bin edges\n",
    "data = time_diff_sec\n",
    "data = time_diff_sec[:int(len(time_diff_sec) * 2/3)]\n",
    "hist, bin_edges = np.histogram(data, bins=208)\n",
    "\n",
    "# Calculate the bin centers\n",
    "bin_centers = (bin_edges[:-1] + bin_edges[1:]) / 2\n",
    "\n",
    "# Fit the exponential decay function\n",
    "fit_results = fit_expon(bin_centers, hist)\n",
    "\n",
    "# Extract the decay constant\n",
    "decay_constant = fit_results['coefficients'][1]\n",
    "decay_constant_error = fit_results['errors'][1]\n",
    "\n",
    "# Print the decay constant\n",
    "print(\"Decay constant:\", decay_constant)\n",
    "print(\"Half-life:\", np.log(2) / decay_constant/60, \"minutes\")\n",
    "print(\"R-squared:\", fit_results['r2'])\n",
    "print(\"Adjusted R-squared:\", fit_results['adj_r2'])\n",
    "print(\"Sum of squared errors:\", fit_results['sse'])\n",
    "print(\"Chi-squared:\", fit_results['chi_squared'])"
   ]
  },
  {
   "cell_type": "markdown",
   "metadata": {},
   "source": [
    "## Plot the Exponential Decay curve"
   ]
  },
  {
   "cell_type": "code",
   "execution_count": 14,
   "metadata": {},
   "outputs": [
    {
     "data": {
      "image/png": "[encoded data removed]",
      "text/plain": [
       "<Figure size 640x480 with 1 Axes>"
      ]
     },
     "metadata": {},
     "output_type": "display_data"
    }
   ],
   "source": [
    "# Plot the histogram\n",
    "plt.hist(data, bins=208, label='Initial Data')\n",
    "# Plot the fitted function\n",
    "plt.plot(fit_results['x'], fit_results['y'], label='Fitted function', color='red')\n",
    "# Set the x-axis label\n",
    "plt.xlabel('Time (seconds)')\n",
    "# Set the y-axis label\n",
    "plt.ylabel('Events')\n",
    "# Set the title of the histogram\n",
    "plt.title('Frequency of Time Differences')\n",
    "# Display the legend\n",
    "plt.legend()\n",
    "# Save the plot as a PDF and PNG\n",
    "path = \"C:/Users/migue/OneDrive - Universidade de Lisboa/College/MEFT/5Ano/Thesis_MEFT/figures/results/\"\n",
    "plt.savefig(path + 'freq_time_init_fit.pdf')\n",
    "plt.savefig(path + 'freq_time_init_fit.png')\n",
    "# Display the histogram\n",
    "plt.show()\n"
   ]
  },
  {
   "cell_type": "markdown",
   "metadata": {},
   "source": [
    "## Fitting of the end exponential decay"
   ]
  },
  {
   "cell_type": "code",
   "execution_count": 25,
   "metadata": {},
   "outputs": [
    {
     "name": "stdout",
     "output_type": "stream",
     "text": [
      "Decay constant: 0.00011029443809584565\n",
      "Half-life: 104.7419363004811 minutes\n",
      "R-squared: 0.5963068805282226\n",
      "Adjusted R-squared: 0.5908515681029283\n",
      "Sum of squared errors: 14899563.801314354\n",
      "Chi-squared: 35.39400687812803\n"
     ]
    }
   ],
   "source": [
    "# Calculate the histogram values and bin edges\n",
    "data_end = time_diff_sec\n",
    "data_end = time_diff_sec[int(len(time_diff_sec) * 11/12):]\n",
    "hist_end, bin_edges_end = np.histogram(data_end, bins=151)\n",
    "\n",
    "# Calculate the bin centers\n",
    "bin_centers = (bin_edges_end[:-1] + bin_edges_end[1:]) / 2\n",
    "\n",
    "# Fit the exponential decay function\n",
    "fit_results_end = fit_expon(bin_centers, hist_end)\n",
    "\n",
    "# Extract the decay constant\n",
    "decay_constant_end = fit_results_end['coefficients'][1]\n",
    "decay_constant_end_error = fit_results_end['errors'][1]\n",
    "\n",
    "# Print the decay constant\n",
    "print(\"Decay constant:\", decay_constant_end)\n",
    "print(\"Half-life:\", np.log(2) / decay_constant_end/60, \"minutes\")\n",
    "print(\"R-squared:\", fit_results_end['r2'])\n",
    "print(\"Adjusted R-squared:\", fit_results_end['adj_r2'])\n",
    "print(\"Sum of squared errors:\", fit_results_end['sse'])\n",
    "print(\"Chi-squared:\", fit_results_end['chi_squared'])"
   ]
  },
  {
   "cell_type": "code",
   "execution_count": 22,
   "metadata": {},
   "outputs": [
    {
     "data": {
      "image/png": "[encoded data removed]",
      "text/plain": [
       "<Figure size 640x480 with 1 Axes>"
      ]
     },
     "metadata": {},
     "output_type": "display_data"
    }
   ],
   "source": [
    "# Plot the histogram\n",
    "plt.hist(data_end, bins=151, label='End of Data')\n",
    "# Plot the fitted function\n",
    "plt.plot(fit_results_end['x'], fit_results_end['y'], label='Fitted function', color='red')\n",
    "# Set the x-axis label\n",
    "plt.xlabel('Time (seconds)')\n",
    "# Set the y-axis label\n",
    "plt.ylabel('Events')\n",
    "# Set the title of the histogram\n",
    "plt.title('Frequency of Time Differences')\n",
    "# Display the legend\n",
    "plt.legend()\n",
    "# Save the plot as a PDF and PNG\n",
    "path = \"C:/Users/migue/OneDrive - Universidade de Lisboa/College/MEFT/5Ano/Thesis_MEFT/figures/results/\"\n",
    "plt.savefig(path + 'freq_time_end_fit.pdf')\n",
    "plt.savefig(path + 'freq_time_end_fit.png')\n",
    "# Display the histogram\n",
    "plt.show()"
   ]
  },
  {
   "cell_type": "code",
   "execution_count": 23,
   "metadata": {},
   "outputs": [
    {
     "name": "stdout",
     "output_type": "stream",
     "text": [
      "Half-life init (min): 109.60918180665814 ± 5.916540091505658\n",
      "Half-life end (min): 104.7419363004811 ± 7.119676045880565\n",
      "A0 init: 21597.12237128649 ± 356.6487929210265\n",
      "A0 end: 10535.16163893834 ± 944.4187393710879\n"
     ]
    }
   ],
   "source": [
    "decay_constant = fit_results['coefficients'][1]\n",
    "decay_constant_error = fit_results['errors'][1]\n",
    "decay_constant_end = fit_results_end['coefficients'][1]\n",
    "decay_constant_end_error = fit_results_end['errors'][1]\n",
    "A0_constant = fit_results['coefficients'][0]\n",
    "A0_constant_error = fit_results['errors'][0]\n",
    "A0_constant_end = fit_results_end['coefficients'][0]\n",
    "A0_constant_end_error = fit_results_end['errors'][0]\n",
    "\n",
    "half_life_init = np.log(2) / decay_constant/60\n",
    "half_life_init_error = np.log(2) / decay_constant**2 * decay_constant_error/60\n",
    "half_life_end = np.log(2) / decay_constant_end/60\n",
    "half_life_end_error = np.log(2) / decay_constant_end**2 * decay_constant_end_error/60\n",
    "\n",
    "\n",
    "print(\"Half-life init (min):\", half_life_init, \"±\", half_life_init_error)\n",
    "print(\"Half-life end (min):\", half_life_end, \"±\", half_life_end_error)\n",
    "print(\"A0 init:\", A0_constant, \"±\", A0_constant_error)\n",
    "print(\"A0 end:\", A0_constant_end, \"±\", A0_constant_end_error)"
   ]
  },
  {
   "cell_type": "code",
   "execution_count": 29,
   "metadata": {},
   "outputs": [],
   "source": [
    "# Save histogram data to a csv file\n",
    "import csv\n",
    "\n",
    "# Define the file name\n",
    "file_all  = './resol_analysis/results/histogram_data_all.csv'\n",
    "file_init = './resol_analysis/results/histogram_data_init.csv'\n",
    "file_end =  './resol_analysis/results/histogram_data_end.csv'\n",
    "\n",
    "# Define the data to save all\n",
    "# Calculate the histogram values and bin edges\n",
    "data = time_diff_sec\n",
    "hist, bin_edges = np.histogram(data, bins=500)\n",
    "bin_centers = (bin_edges[:-1] + bin_edges[1:]) / 2\n",
    "data_all = {'bin_centers': bin_centers, 'bin_edges': bin_edges, 'hist': hist}\n",
    "\n",
    "# Define the data to save init\n",
    "# Calculate the histogram values and bin edges\n",
    "data = time_diff_sec[:int(len(time_diff_sec) * 2/3)]\n",
    "hist, bin_edges = np.histogram(data, bins=208)\n",
    "bin_centers = (bin_edges[:-1] + bin_edges[1:]) / 2\n",
    "data_init = {'bin_centers': bin_centers, 'bin_edges': bin_edges, 'hist': hist}\n",
    "\n",
    "# Define the data to save end\n",
    "# Calculate the histogram values and bin edges\n",
    "data = time_diff_sec[int(len(time_diff_sec) * 11/12):]\n",
    "hist, bin_edges = np.histogram(data, bins=151)\n",
    "bin_centers = (bin_edges[:-1] + bin_edges[1:]) / 2\n",
    "data_end = {'bin_centers': bin_centers, 'bin_edges': bin_edges, 'hist': hist}\n",
    "\n",
    "# Save the data to a csv file\n",
    "with open(file_all, 'w', newline='') as file:\n",
    "    writer = csv.writer(file)\n",
    "    writer.writerow(data_all.keys())\n",
    "    writer.writerows(zip(*data_all.values()))\n",
    "\n",
    "with open(file_init, 'w', newline='') as file:\n",
    "    writer = csv.writer(file)\n",
    "    writer.writerow(data_init.keys())\n",
    "    writer.writerows(zip(*data_init.values()))\n",
    "\n",
    "with open(file_end, 'w', newline='') as file:\n",
    "    writer = csv.writer(file)\n",
    "    writer.writerow(data_end.keys())\n",
    "    writer.writerows(zip(*data_end.values()))"
   ]
  },
  {
   "cell_type": "code",
   "execution_count": 30,
   "metadata": {},
   "outputs": [
    {
     "name": "stdout",
     "output_type": "stream",
     "text": [
      "Coef init - [N0 lam]:  [2.15971224e+04 1.05396763e-04]\n",
      "Erro init - [N0 lam]:  [3.56648793e+02 5.68916003e-06]\n",
      "Coef end  - [N0 lam]:  [1.05351616e+04 1.10294438e-04]\n",
      "Erro end  - [N0 lam]:  [9.44418739e+02 7.49709903e-06]\n"
     ]
    }
   ],
   "source": [
    "# Print fit_results coefficients and errors\n",
    "print(\"Coef init - [N0 lam]: \", fit_results['coefficients'])\n",
    "print(\"Erro init - [N0 lam]: \", fit_results['errors'])\n",
    "print(\"Coef end  - [N0 lam]: \", fit_results_end['coefficients'])\n",
    "print(\"Erro end  - [N0 lam]: \", fit_results_end['errors'])"
   ]
  },
  {
   "cell_type": "markdown",
   "metadata": {},
   "source": [
    "# Data Size and Shape"
   ]
  },
  {
   "cell_type": "code",
   "execution_count": null,
   "metadata": {},
   "outputs": [
    {
     "name": "stdout",
     "output_type": "stream",
     "text": [
      "(4997135, 2)\n",
      "(2, 100)\n"
     ]
    }
   ],
   "source": [
    "import numpy as np\n",
    "\n",
    "[LORsX, LORsY, LORsZ] = [np.squeeze(LORs[:,i,:]) for i in [0,1,2]]\n",
    "# Switch from (a,b) to (b,a)\n",
    "[LORsX, LORsY, LORsZ] = [np.swapaxes(i, 0, 1)  for i in [LORsX, LORsY, LORsZ]]\n",
    "# LORsX = np.swapaxes(LORsX, 0, 1)\n",
    "print(LORsX.shape)\n",
    "\n",
    "points = np.linspace(-1, 1, 100)\n",
    "print(np.array([points, np.ones(points.size)]).shape)"
   ]
  },
  {
   "cell_type": "code",
   "execution_count": null,
   "metadata": {},
   "outputs": [
    {
     "data": {
      "text/plain": [
       "679.43176"
      ]
     },
     "execution_count": 6,
     "metadata": {},
     "output_type": "execute_result"
    }
   ],
   "source": [
    "# max(LORsZ[:,0])\n",
    "max(LORs[0,2,:])"
   ]
  },
  {
   "cell_type": "code",
   "execution_count": null,
   "metadata": {},
   "outputs": [
    {
     "name": "stdout",
     "output_type": "stream",
     "text": [
      "(499713, 100)\n"
     ]
    }
   ],
   "source": [
    "indexs = np.random.choice(LORsX.shape[0], int(LORsX.shape[0]/10), replace=False)\n",
    "\n",
    "# [LORX_small,LORY_small,LORZ_small] = [i[indexs] for i in [LORsX, LORsY, LORsZ]]\n",
    "# print(LORX_small.shape)\n",
    "# [LORX_points_small, LORY_points_small, LORZ_points_small]  = [i @ np.array([points, np.ones(points.size)]) for i in [LORX_small,LORY_small,LORZ_small]]\n",
    "## OR\n",
    "[LORX_points_small, LORY_points_small, LORZ_points_small]  = [i[indexs] @ np.array([points, np.ones(points.size)]) for i in [LORsX, LORsY, LORsZ]]\n",
    "print(LORX_points_small.shape)"
   ]
  },
  {
   "cell_type": "code",
   "execution_count": null,
   "metadata": {},
   "outputs": [
    {
     "name": "stdout",
     "output_type": "stream",
     "text": [
      "Shape of LOR3D_points_small: (3, 499713, 100)\n",
      "Shape of LOR2D_points_small: (2, 499713, 100)\n"
     ]
    }
   ],
   "source": [
    "LOR3D_points_small = np.array([LORX_points_small, LORY_points_small, LORZ_points_small])\n",
    "LOR2D_points_small = np.array([LORX_points_small, LORY_points_small])\n",
    "print('Shape of LOR3D_points_small:', LOR3D_points_small.shape)\n",
    "print('Shape of LOR2D_points_small:', LOR2D_points_small.shape)\n"
   ]
  },
  {
   "cell_type": "code",
   "execution_count": null,
   "metadata": {},
   "outputs": [
    {
     "name": "stdout",
     "output_type": "stream",
     "text": [
      "Shape of LORs_points_small_endpoints: (2, 3, 499713)\n",
      "Shape of LOR2D_points_small_endpoints: (2, 2, 499713)\n"
     ]
    }
   ],
   "source": [
    "LOR3D_points_small_endpoints = np.array([LOR3D_points_small[:,:,0], LOR3D_points_small[:,:,-1]])\n",
    "LOR2D_points_small_endpoints = np.array([LOR2D_points_small[:,:,0], LOR2D_points_small[:,:,-1]])\n",
    "print('Shape of LORs_points_small_endpoints:', LOR3D_points_small_endpoints.shape)\n",
    "print('Shape of LOR2D_points_small_endpoints:', LOR2D_points_small_endpoints.shape)\n"
   ]
  },
  {
   "cell_type": "code",
   "execution_count": null,
   "metadata": {},
   "outputs": [],
   "source": []
  }
 ],
 "metadata": {
  "kernelspec": {
   "display_name": "Python 3",
   "language": "python",
   "name": "python3"
  },
  "language_info": {
   "codemirror_mode": {
    "name": "ipython",
    "version": 3
   },
   "file_extension": ".py",
   "mimetype": "text/x-python",
   "name": "python",
   "nbconvert_exporter": "python",
   "pygments_lexer": "ipython3",
   "version": "3.12.2"
  },
  "orig_nbformat": 4
 },
 "nbformat": 4,
 "nbformat_minor": 2
}
