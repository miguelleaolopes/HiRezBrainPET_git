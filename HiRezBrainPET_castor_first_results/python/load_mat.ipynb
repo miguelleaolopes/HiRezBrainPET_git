{
 "cells": [
  {
   "cell_type": "code",
   "execution_count": 2,
   "metadata": {},
   "outputs": [
    {
     "name": "stdout",
     "output_type": "stream",
     "text": [
      "['#refs#', 'EvtTime', 'LORs', 'RunName', 'opt']\n",
      "#refs#\n",
      "<HDF5 group \"/#refs#\" (1 members)>\n",
      "EvtTime\n",
      "<HDF5 dataset \"EvtTime\": shape (1, 4997135), type \"<f8\">\n",
      "LORs\n",
      "<HDF5 dataset \"LORs\": shape (2, 3, 4997135), type \"<f4\">\n",
      "RunName\n",
      "<HDF5 dataset \"RunName\": shape (39, 1), type \"<u2\">\n",
      "opt\n",
      "<HDF5 group \"/opt\" (5 members)>\n"
     ]
    }
   ],
   "source": [
    "import h5py\n",
    "\n",
    "mat_file = '../Files/220409181025_4997kLORs.mat'\n",
    "\n",
    "file = h5py.File(mat_file, 'r')\n",
    "\n",
    "# Print the keys of the file\n",
    "print(list(file.keys()))\n",
    "# Save the data from all keys\n",
    "data = []\n",
    "for key in file.keys():\n",
    "    print(key)\n",
    "    print(file[key])\n",
    "    data.append(file[key])\n",
    "# Access the data within the \"/opt\" group\n",
    "\n",
    "EvtTime = data[1][()]\n",
    "LORs = data[2][()]\n",
    "RunName =data[3][()]\n",
    "opt = data[4]\n",
    "\n"
   ]
  },
  {
   "cell_type": "code",
   "execution_count": 3,
   "metadata": {},
   "outputs": [
    {
     "name": "stdout",
     "output_type": "stream",
     "text": [
      "['DPP', 'DbStopBypass', 'LOR', 'allPlotsOff', 'saveLORs']\n",
      "DPP\n",
      "<HDF5 dataset \"DPP\": shape (6, 1), type \"<u2\">\n",
      "DbStopBypass\n",
      "<HDF5 dataset \"DbStopBypass\": shape (1, 1), type \"|u1\">\n",
      "LOR\n",
      "<HDF5 dataset \"LOR\": shape (6, 1), type \"<u2\">\n",
      "allPlotsOff\n",
      "<HDF5 dataset \"allPlotsOff\": shape (1, 1), type \"|u1\">\n",
      "saveLORs\n",
      "<HDF5 group \"/opt/saveLORs\" (1 members)>\n",
      "[[126]\n",
      " [ 47]\n",
      " [ 68]\n",
      " [ 80]\n",
      " [ 80]\n",
      " [ 47]]\n"
     ]
    }
   ],
   "source": [
    "# print the opt group members\n",
    "print(list(opt.keys()))\n",
    "# Save the data from all keys\n",
    "data = []\n",
    "for key in opt.keys():\n",
    "    print(key)\n",
    "    print(opt[key])\n",
    "    data.append(opt[key])\n",
    "\n",
    "# acess the DPP data within the \"/opt\" group that is shape (6,1) type \"<u2\">\n",
    "DPP = data[0][()]\n",
    "print(DPP)"
   ]
  },
  {
   "cell_type": "code",
   "execution_count": 4,
   "metadata": {},
   "outputs": [],
   "source": [
    "import datetime\n",
    "import numpy as np\n",
    "\n",
    "# Remove the extra dimension\n",
    "time_full = np.squeeze(EvtTime)\n",
    "\n",
    "# Convert the event time to a datetime object\n",
    "time_datetime = [datetime.datetime.fromordinal(int(t)) + datetime.timedelta(days=t % 1) - datetime.timedelta(days=366) for t in time_full]"
   ]
  },
  {
   "cell_type": "code",
   "execution_count": 5,
   "metadata": {},
   "outputs": [
    {
     "name": "stdout",
     "output_type": "stream",
     "text": [
      "Start time:    16-Mar-2022 21:58:45\n",
      "End time:      17-Mar-2022 01:59:10\n",
      "Elapsed time:  4:00:25.000002\n",
      "Time spent on the first 100k events: 0:02:21\n",
      "Time spent on the last 100k events:  0:20:58.000006\n"
     ]
    }
   ],
   "source": [
    "# The first and last date and the elapsed time\n",
    "first_date_string = time_datetime[0].strftime('%d-%b-%Y %H:%M:%S')\n",
    "last_date_string = time_datetime[-1].strftime('%d-%b-%Y %H:%M:%S')\n",
    "elapsed_time = time_datetime[-1] - time_datetime[0]\n",
    "\n",
    "print('Start time:   ', first_date_string)\n",
    "print('End time:     ', last_date_string)\n",
    "print('Elapsed time: ', elapsed_time)\n",
    "\n",
    "# Time between first 100000 and last 100000 events\n",
    "elapsed_first_100k = time_datetime[100000] - time_datetime[0]\n",
    "elapsed_last_100k = time_datetime[-1] - time_datetime[-100000]\n",
    "\n",
    "print('Time spent on the first 100k events:', elapsed_first_100k)\n",
    "print('Time spent on the last 100k events: ', elapsed_last_100k)"
   ]
  },
  {
   "cell_type": "code",
   "execution_count": 6,
   "metadata": {},
   "outputs": [],
   "source": [
    "# Time diference between the first and each event\n",
    "time_diff = [t - time_datetime[0] for t in time_datetime]\n",
    "\n",
    "# Difference in seconds\n",
    "time_diff_sec = [t.total_seconds() for t in time_diff]\n",
    "\n",
    "# Difference in milliseconds\n",
    "time_diff_msec = [t.total_seconds() * 1000 for t in time_diff]"
   ]
  },
  {
   "cell_type": "code",
   "execution_count": 7,
   "metadata": {},
   "outputs": [
    {
     "data": {
      "image/png": "[encoded data removed]",
      "text/plain": [
       "<Figure size 640x480 with 1 Axes>"
      ]
     },
     "metadata": {},
     "output_type": "display_data"
    }
   ],
   "source": [
    "import numpy as np\n",
    "from scipy.optimize import curve_fit\n",
    "import matplotlib.pyplot as plt\n",
    "\n",
    "# Create a histogram\n",
    "plt.hist(time_diff_sec, bins=100)\n",
    "\n",
    "# Set the x-axis label\n",
    "plt.xlabel('Time (seconds)')\n",
    "\n",
    "# Set the y-axis label\n",
    "plt.ylabel('Frequency')\n",
    "\n",
    "# Set the title of the histogram\n",
    "plt.title('Frequency of Time Differences')\n",
    "\n",
    "# Display the histogram\n",
    "plt.show()\n"
   ]
  },
  {
   "cell_type": "code",
   "execution_count": 11,
   "metadata": {},
   "outputs": [
    {
     "name": "stdout",
     "output_type": "stream",
     "text": [
      "Decay constant: 0.00010544743661305671\n",
      "Half-life: 109.55650872504921 minutes\n",
      "R-squared: 0.7770543629721889\n",
      "Adjusted R-squared: 0.7724575457138836\n",
      "Sum of squared errors: 1051396695.2727562\n"
     ]
    }
   ],
   "source": [
    "from scipy.optimize import curve_fit\n",
    "from sklearn.metrics import r2_score\n",
    "\n",
    "# Define the exponential function\n",
    "def exponential_decay(x, a, b):\n",
    "    return a * np.exp(-b * x)\n",
    "\n",
    "# Define a function to calculate the sum of squared errors (SSE)\n",
    "def calculate_sse(y_actual, y_predicted):\n",
    "    # Convert the input lists to NumPy arrays for vectorized operations\n",
    "    y_actual = np.array(y_actual)\n",
    "    y_predicted = np.array(y_predicted)\n",
    "    \n",
    "    # Calculate squared errors and sum them up\n",
    "    squared_errors = (y_actual - y_predicted) ** 2\n",
    "    sse = np.sum(squared_errors)\n",
    "    \n",
    "    return sse\n",
    "\n",
    "def fit_expon(x,y):\n",
    "    \n",
    "    # Perform the curve fit\n",
    "\n",
    "    popt, pcov = curve_fit(exponential_decay, x, y, p0=[30600, 0.0001], maxfev=5000)\n",
    "\n",
    "    # Extract the optimized parameters\n",
    "    a_opt, b_opt = popt\n",
    "    \n",
    "    # Generate fitted values for plotting\n",
    "    x_fit = np.linspace(min(x), max(x), 40)\n",
    "    y_fit = exponential_decay(x_fit, a_opt, b_opt)\n",
    "    \n",
    "    # Calculate the predicted values of y using the fitted parameters\n",
    "    y_predicted = exponential_decay(x, a_opt, b_opt)\n",
    "\n",
    "    # Calculate R-squared (coefficient of determination)\n",
    "    r2 = r2_score(y, y_predicted)\n",
    "    \n",
    "    # Calculate SSE\n",
    "    sse = calculate_sse(y, y_predicted)\n",
    " \n",
    "    # Calculate adjusted R-squared\n",
    "    n = len(y)\n",
    "    p = len(popt)\n",
    "    adjusted_R_squared = 1 - (1 - r2) * (n - 1) / (n - p - 1)\n",
    "    \n",
    "    return {'x': x_fit, 'y': y_fit, 'r2': r2, 'coefficients': popt, 'sse': sse,\n",
    "            'adj_r2': adjusted_R_squared}\n",
    "\n",
    "# Calculate the histogram values and bin edges\n",
    "data = time_diff_sec\n",
    "data = time_diff_sec[:int(len(time_diff_sec) * 2/3)]\n",
    "hist, bin_edges = np.histogram(data, bins=100)\n",
    "\n",
    "# Calculate the bin centers\n",
    "bin_centers = (bin_edges[:-1] + bin_edges[1:]) / 2\n",
    "\n",
    "# Fit the exponential decay function\n",
    "fit_results = fit_expon(bin_centers, hist)\n",
    "\n",
    "# Extract the decay constant\n",
    "decay_constant = fit_results['coefficients'][1]\n",
    "\n",
    "# Print the decay constant\n",
    "print(\"Decay constant:\", decay_constant)\n",
    "print(\"Half-life:\", np.log(2) / decay_constant/60, \"minutes\")\n",
    "print(\"R-squared:\", fit_results['r2'])\n",
    "print(\"Adjusted R-squared:\", fit_results['adj_r2'])\n",
    "print(\"Sum of squared errors:\", fit_results['sse'])"
   ]
  },
  {
   "cell_type": "code",
   "execution_count": 12,
   "metadata": {},
   "outputs": [
    {
     "data": {
      "image/png": "[encoded data removed]",
      "text/plain": [
       "<Figure size 640x480 with 1 Axes>"
      ]
     },
     "metadata": {},
     "output_type": "display_data"
    }
   ],
   "source": [
    "# Plot the histogram\n",
    "plt.hist(data, bins=100, label='Data')\n",
    "# Plot the fitted function\n",
    "plt.plot(fit_results['x'], fit_results['y'], label='Fitted function', color='red')\n",
    "# Set the x-axis label\n",
    "plt.xlabel('Time (seconds)')\n",
    "# Set the y-axis label\n",
    "plt.ylabel('Frequency')\n",
    "# Set the title of the histogram\n",
    "plt.title('Frequency of Time Differences')\n",
    "# Display the legend\n",
    "plt.legend()\n",
    "# Display the histogram\n",
    "plt.show()\n"
   ]
  },
  {
   "cell_type": "code",
   "execution_count": 66,
   "metadata": {},
   "outputs": [
    {
     "name": "stdout",
     "output_type": "stream",
     "text": [
      "Half-life: 109.55650872504921\n"
     ]
    }
   ],
   "source": [
    "print(\"Half-life:\", np.log(2) / decay_constant/60)\n"
   ]
  },
  {
   "cell_type": "code",
   "execution_count": 5,
   "metadata": {},
   "outputs": [
    {
     "name": "stdout",
     "output_type": "stream",
     "text": [
      "(4997135, 2)\n",
      "(2, 100)\n"
     ]
    }
   ],
   "source": [
    "import numpy as np\n",
    "\n",
    "[LORsX, LORsY, LORsZ] = [np.squeeze(LORs[:,i,:]) for i in [0,1,2]]\n",
    "# Switch from (a,b) to (b,a)\n",
    "[LORsX, LORsY, LORsZ] = [np.swapaxes(i, 0, 1)  for i in [LORsX, LORsY, LORsZ]]\n",
    "# LORsX = np.swapaxes(LORsX, 0, 1)\n",
    "print(LORsX.shape)\n",
    "\n",
    "points = np.linspace(-1, 1, 100)\n",
    "print(np.array([points, np.ones(points.size)]).shape)"
   ]
  },
  {
   "cell_type": "code",
   "execution_count": 6,
   "metadata": {},
   "outputs": [
    {
     "data": {
      "text/plain": [
       "679.43176"
      ]
     },
     "execution_count": 6,
     "metadata": {},
     "output_type": "execute_result"
    }
   ],
   "source": [
    "# max(LORsZ[:,0])\n",
    "max(LORs[0,2,:])"
   ]
  },
  {
   "cell_type": "code",
   "execution_count": 7,
   "metadata": {},
   "outputs": [
    {
     "name": "stdout",
     "output_type": "stream",
     "text": [
      "(499713, 100)\n"
     ]
    }
   ],
   "source": [
    "indexs = np.random.choice(LORsX.shape[0], int(LORsX.shape[0]/10), replace=False)\n",
    "\n",
    "# [LORX_small,LORY_small,LORZ_small] = [i[indexs] for i in [LORsX, LORsY, LORsZ]]\n",
    "# print(LORX_small.shape)\n",
    "# [LORX_points_small, LORY_points_small, LORZ_points_small]  = [i @ np.array([points, np.ones(points.size)]) for i in [LORX_small,LORY_small,LORZ_small]]\n",
    "## OR\n",
    "[LORX_points_small, LORY_points_small, LORZ_points_small]  = [i[indexs] @ np.array([points, np.ones(points.size)]) for i in [LORsX, LORsY, LORsZ]]\n",
    "print(LORX_points_small.shape)"
   ]
  },
  {
   "cell_type": "code",
   "execution_count": 8,
   "metadata": {},
   "outputs": [
    {
     "name": "stdout",
     "output_type": "stream",
     "text": [
      "Shape of LOR3D_points_small: (3, 499713, 100)\n",
      "Shape of LOR2D_points_small: (2, 499713, 100)\n"
     ]
    }
   ],
   "source": [
    "LOR3D_points_small = np.array([LORX_points_small, LORY_points_small, LORZ_points_small])\n",
    "LOR2D_points_small = np.array([LORX_points_small, LORY_points_small])\n",
    "print('Shape of LOR3D_points_small:', LOR3D_points_small.shape)\n",
    "print('Shape of LOR2D_points_small:', LOR2D_points_small.shape)\n"
   ]
  },
  {
   "cell_type": "code",
   "execution_count": 9,
   "metadata": {},
   "outputs": [
    {
     "name": "stdout",
     "output_type": "stream",
     "text": [
      "Shape of LORs_points_small_endpoints: (2, 3, 499713)\n",
      "Shape of LOR2D_points_small_endpoints: (2, 2, 499713)\n"
     ]
    }
   ],
   "source": [
    "LOR3D_points_small_endpoints = np.array([LOR3D_points_small[:,:,0], LOR3D_points_small[:,:,-1]])\n",
    "LOR2D_points_small_endpoints = np.array([LOR2D_points_small[:,:,0], LOR2D_points_small[:,:,-1]])\n",
    "print('Shape of LORs_points_small_endpoints:', LOR3D_points_small_endpoints.shape)\n",
    "print('Shape of LOR2D_points_small_endpoints:', LOR2D_points_small_endpoints.shape)\n"
   ]
  },
  {
   "cell_type": "code",
   "execution_count": 10,
   "metadata": {},
   "outputs": [],
   "source": [
    "# Get the A and B parameters\n",
    "A = LOR2D_points_small_endpoints[1,1,:] - LOR2D_points_small_endpoints[0,1,:]\n",
    "B = LOR2D_points_small_endpoints[0,0,:] - LOR2D_points_small_endpoints[1,0,:]\n",
    "C = LOR2D_points_small_endpoints[1,0,:] * LOR2D_points_small_endpoints[0,1,:] - LOR2D_points_small_endpoints[0,0,:] * LOR2D_points_small_endpoints[1,1,:]\n"
   ]
  },
  {
   "cell_type": "code",
   "execution_count": 11,
   "metadata": {},
   "outputs": [
    {
     "ename": "ValueError",
     "evalue": "setting an array element with a sequence. The requested array has an inhomogeneous shape after 1 dimensions. The detected shape was (499713,) + inhomogeneous part.",
     "output_type": "error",
     "traceback": [
      "\u001b[1;31m---------------------------------------------------------------------------\u001b[0m",
      "\u001b[1;31mValueError\u001b[0m                                Traceback (most recent call last)",
      "Cell \u001b[1;32mIn[11], line 4\u001b[0m\n\u001b[0;32m      1\u001b[0m \u001b[38;5;28;01mfrom\u001b[39;00m \u001b[38;5;21;01mline_intersection\u001b[39;00m\u001b[38;5;21;01m.\u001b[39;00m\u001b[38;5;21;01mintersect_line_circle\u001b[39;00m \u001b[38;5;28;01mimport\u001b[39;00m intersect_line_circle\n\u001b[0;32m      3\u001b[0m pts_intersect \u001b[38;5;241m=\u001b[39m [intersect_line_circle(A[i], B[i], C[i], r\u001b[38;5;241m=\u001b[39m\u001b[38;5;241m15\u001b[39m, show\u001b[38;5;241m=\u001b[39m\u001b[38;5;28;01mFalse\u001b[39;00m) \u001b[38;5;28;01mfor\u001b[39;00m i \u001b[38;5;129;01min\u001b[39;00m \u001b[38;5;28mrange\u001b[39m(A\u001b[38;5;241m.\u001b[39msize)]\n\u001b[1;32m----> 4\u001b[0m pts_intersect \u001b[38;5;241m=\u001b[39m \u001b[43mnp\u001b[49m\u001b[38;5;241;43m.\u001b[39;49m\u001b[43marray\u001b[49m\u001b[43m(\u001b[49m\u001b[43mpts_intersect\u001b[49m\u001b[43m)\u001b[49m\n",
      "\u001b[1;31mValueError\u001b[0m: setting an array element with a sequence. The requested array has an inhomogeneous shape after 1 dimensions. The detected shape was (499713,) + inhomogeneous part."
     ]
    }
   ],
   "source": [
    "from line_intersection.intersect_line_circle import intersect_line_circle\n",
    "\n",
    "pts_intersect = [intersect_line_circle(A[i], B[i], C[i], r=15, show=False) for i in range(A.size)]\n",
    "pts_intersect = np.array(pts_intersect)"
   ]
  },
  {
   "cell_type": "code",
   "execution_count": 47,
   "metadata": {},
   "outputs": [],
   "source": [
    "###### MATA PC !!!!!!\n",
    "# [LORX_points, LORY_points, LORZ_points]  = [i @ np.array([points, np.ones(points.size)]) for i in [LORsX, LORsY, LORsZ]]"
   ]
  },
  {
   "cell_type": "code",
   "execution_count": null,
   "metadata": {},
   "outputs": [],
   "source": []
  }
 ],
 "metadata": {
  "kernelspec": {
   "display_name": "Python 3",
   "language": "python",
   "name": "python3"
  },
  "language_info": {
   "codemirror_mode": {
    "name": "ipython",
    "version": 3
   },
   "file_extension": ".py",
   "mimetype": "text/x-python",
   "name": "python",
   "nbconvert_exporter": "python",
   "pygments_lexer": "ipython3",
   "version": "3.12.2"
  },
  "orig_nbformat": 4
 },
 "nbformat": 4,
 "nbformat_minor": 2
}
